{
 "cells": [
  {
   "cell_type": "code",
   "execution_count": 1,
   "metadata": {},
   "outputs": [],
   "source": [
    "from utils.extraction.extraction import *\n",
    "from utils.transformation.transformation import *\n",
    "from utils.load.load import *\n",
    "import pandas as pd"
   ]
  },
  {
   "cell_type": "code",
   "execution_count": null,
   "metadata": {},
   "outputs": [],
   "source": [
    "def extraction():\n",
    "    contact_raw_data=contact_collector()\n",
    "    return contact_raw_data"
   ]
  },
  {
   "cell_type": "code",
   "execution_count": null,
   "metadata": {},
   "outputs": [],
   "source": [
    "def duplicates_management(df):\n",
    "    \"\"\"\n",
    "    Manages duplicates in a DataFrame based on email values.\n",
    "\n",
    "    Args:\n",
    "        df (pandas.DataFrame): Input DataFrame.\n",
    "\n",
    "    Returns:\n",
    "        temp_df (pandas.DataFrame): DataFrame with duplicates managed based on email values.\n",
    "    \"\"\"\n",
    "\n",
    "    temp_df=df.copy()\n",
    "    duplicates_list = temp_df['email'].duplicated(keep=False) & (df['email'].notna())\n",
    "    duplicated = temp_df[duplicates_list]\n",
    "\n",
    "    for _, group in duplicated.groupby('email'):\n",
    "        \n",
    "        ordered_group = group.sort_values('lastmodifieddate', ascending=False)\n",
    "\n",
    "        ordered_group = ordered_group.fillna(method='bfill')\n",
    "\n",
    "        industries = ';'+';'.join(str(industry) for industry in ordered_group['industry'].unique())\n",
    "\n",
    "        ordered_group.loc[ordered_group.index[0], 'industry'] = industries\n",
    "\n",
    "\n",
    "        id_list=list(ordered_group['hs_object_id'])\n",
    "        value_to_replace=id_list[0]\n",
    "        row_to_replace = temp_df[temp_df['hs_object_id'] == value_to_replace].index[0]\n",
    "        temp_df.loc[row_to_replace] = ordered_group[ordered_group['hs_object_id'] == value_to_replace].iloc[0]\n",
    "\n",
    "        reference_values = id_list[1:]\n",
    "        temp_df = temp_df[~temp_df['hs_object_id'].isin(reference_values)]\n",
    "\n",
    "\n",
    "    return temp_df"
   ]
  },
  {
   "cell_type": "code",
   "execution_count": null,
   "metadata": {},
   "outputs": [],
   "source": [
    "def transformation(contacts_df):\n",
    "    contacts_df = contacts_df.drop('createdate', axis=1)\n",
    "    contacts_df[['country','city']]=contacts_df['country'].apply(country_recognition).apply(pd.Series)\n",
    "    contacts_df['raw_email']=contacts_df['raw_email'].apply(found_emails)\n",
    "    contacts_df = contacts_df.rename(columns={'raw_email': 'email'})\n",
    "    contacts_df['phone']=contacts_df.apply(lambda x: fix_phone_numbers(x['phone'], x['country']), axis=1)\n",
    "\n",
    "    #Duplicates Management\n",
    "    no_duplicates_df=duplicates_management(contacts_df)\n",
    "\n",
    "    return no_duplicates_df"
   ]
  },
  {
   "cell_type": "code",
   "execution_count": null,
   "metadata": {},
   "outputs": [],
   "source": [
    "def load(df):\n",
    "    records = df.to_dict(orient='records')\n",
    "    for record in records:\n",
    "        refix_cord=load_record_management(record)\n",
    "        saving_contact(refix_cord)"
   ]
  },
  {
   "cell_type": "code",
   "execution_count": null,
   "metadata": {},
   "outputs": [],
   "source": [
    "def run_pipeline():\n",
    "\n",
    "    #Extaction\n",
    "    contacts_data=extraction()\n",
    "    contacts_df=pd.DataFrame(contacts_data)\n",
    "    contacts_df.to_csv('csv_results/extraction.csv', index=False)\n",
    "\n",
    "\n",
    "    #Transformation\n",
    "    transformed_df=transformation(contacts_df)\n",
    "    transformed_df.to_csv('csv_results/transformed.csv', index=False)\n",
    "\n",
    "\n",
    "    #Load\n",
    "    load(transformed_df)"
   ]
  },
  {
   "cell_type": "code",
   "execution_count": null,
   "metadata": {},
   "outputs": [],
   "source": [
    "if __name__ == \"__main__\":\n",
    "    \n",
    "    run_pipeline()"
   ]
  }
 ],
 "metadata": {
  "kernelspec": {
   "display_name": "venv-testcode",
   "language": "python",
   "name": "python3"
  },
  "language_info": {
   "codemirror_mode": {
    "name": "ipython",
    "version": 3
   },
   "file_extension": ".py",
   "mimetype": "text/x-python",
   "name": "python",
   "nbconvert_exporter": "python",
   "pygments_lexer": "ipython3",
   "version": "3.11.3"
  },
  "orig_nbformat": 4
 },
 "nbformat": 4,
 "nbformat_minor": 2
}
